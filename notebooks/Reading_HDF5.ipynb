{
 "cells": [
  {
   "cell_type": "code",
   "execution_count": 1,
   "metadata": {},
   "outputs": [],
   "source": [
    "import numpy as np\n",
    "from matplotlib import pyplot as plt\n",
    "from mpl_toolkits.mplot3d import Axes3D\n",
    "import h5py as h5"
   ]
  },
  {
   "cell_type": "code",
   "execution_count": 2,
   "metadata": {},
   "outputs": [],
   "source": [
    "file = h5.File('../output/large/lcdm.h5')\n",
    "# file.close()"
   ]
  },
  {
   "cell_type": "code",
   "execution_count": 3,
   "metadata": {},
   "outputs": [],
   "source": [
    "p = file[\"potential\"][:]"
   ]
  },
  {
   "cell_type": "code",
   "execution_count": 4,
   "metadata": {},
   "outputs": [],
   "source": [
    "file.close()"
   ]
  },
  {
   "cell_type": "code",
   "execution_count": 4,
   "metadata": {},
   "outputs": [],
   "source": [
    "def polygon_to_triangles(p):\n",
    "    return np.c_[np.repeat(p[0], p.size - 2), p[1:-1], p[2:]]\n",
    "\n",
    "class Mesh:\n",
    "    def __init__(self, h5_group):\n",
    "        \"\"\"Initialize a mesh from a group in a HDF5 file.\"\"\"\n",
    "        self.vertices = h5_group['vertices'][:].astype('float64')\n",
    "        data = h5_group['data'][:]\n",
    "        sizes = h5_group['sizes'][:]\n",
    "        self.info = h5_group['info'][:].astype('float64')\n",
    "        i1 = np.cumsum(sizes)\n",
    "        i0 = np.r_[[0], i1[:-1]].astype(np.uint)\n",
    "        self.polygons = [data[i:j] for i, j in np.c_[i0, i1]]\n",
    "    \n",
    "    @property\n",
    "    def triangles(self):\n",
    "        return np.concatenate([polygon_to_triangles(p) for p in self.polygons])"
   ]
  },
  {
   "cell_type": "code",
   "execution_count": 3,
   "metadata": {},
   "outputs": [],
   "source": [
    "nodes = [file[str(s)][\"nodes\"][:] for s in range(3)]"
   ]
  },
  {
   "cell_type": "code",
   "execution_count": 31,
   "metadata": {},
   "outputs": [
    {
     "data": {
      "image/png": "[encoded data removed]",
      "text/plain": [
       "<Figure size 288x216 with 1 Axes>"
      ]
     },
     "metadata": {},
     "output_type": "display_data"
    }
   ],
   "source": [
    "bins = np.logspace(-0.4, 2.7, 100)\n",
    "fig, ax = plt.subplots(1, 1, figsize=(4, 3))\n",
    "ax.set_xscale(\"log\")\n",
    "ax.set_yscale(\"log\")\n",
    "\n",
    "x = np.sqrt(bins[:-1]) * np.sqrt(bins[1:])\n",
    "t = [0.2, 0.5, 1.0]\n",
    "for i in range(3)[::-1]:\n",
    "    hist = ax.hist(\n",
    "        nodes[i][np.where(nodes[i]['node_type'] == 4)]['mass'],\n",
    "        bins=bins,\n",
    "        density=True,\n",
    "        alpha=0.3,\n",
    "        label=\"t = {}\".format(t[i]))\n",
    "    ax.plot(x, hist[0], c='k')\n",
    "ax.legend()\n",
    "ax.set_xlim(x[0], x[-1])\n",
    "ax.spines[\"top\"].set_visible(False)\n",
    "ax.spines[\"right\"].set_visible(False)\n",
    "fig.savefig('masses.png', bbox_inches='tight')"
   ]
  },
  {
   "cell_type": "code",
   "execution_count": null,
   "metadata": {},
   "outputs": [],
   "source": []
  }
 ],
 "metadata": {
  "kernelspec": {
   "display_name": "Python 3",
   "language": "python",
   "name": "python3"
  },
  "language_info": {
   "codemirror_mode": {
    "name": "ipython",
    "version": 3
   },
   "file_extension": ".py",
   "mimetype": "text/x-python",
   "name": "python",
   "nbconvert_exporter": "python",
   "pygments_lexer": "ipython3",
   "version": "3.6.5rc1"
  }
 },
 "nbformat": 4,
 "nbformat_minor": 2
}
