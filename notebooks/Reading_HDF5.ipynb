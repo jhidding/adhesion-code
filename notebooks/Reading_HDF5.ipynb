{
 "cells": [
  {
   "cell_type": "code",
   "execution_count": 4,
   "metadata": {},
   "outputs": [],
   "source": [
    "import numpy as np\n",
    "from matplotlib import pyplot as plt\n",
    "from mpl_toolkits.mplot3d import Axes3D\n",
    "import h5py as h5"
   ]
  },
  {
   "cell_type": "code",
   "execution_count": 8,
   "metadata": {},
   "outputs": [],
   "source": [
    "file = h5.File('../output/lcdm.h5')\n",
    "# file.close()"
   ]
  },
  {
   "cell_type": "code",
   "execution_count": 38,
   "metadata": {},
   "outputs": [],
   "source": [
    "def polygon_to_triangles(p):\n",
    "    return np.c_[np.repeat(p[0], p.size - 2), p[1:-1], p[2:]]\n",
    "\n",
    "class Mesh:\n",
    "    def __init__(self, h5_group):\n",
    "        \"\"\"Initialize a mesh from a group in a HDF5 file.\"\"\"\n",
    "        self.vertices = h5_group['vertices'][:].astype('float64')\n",
    "        data = h5_group['data'][:]\n",
    "        sizes = h5_group['sizes'][:]\n",
    "        self.info = h5_group['info'][:].astype('float64')\n",
    "        i1 = np.cumsum(sizes)\n",
    "        i0 = np.r_[[0], i1[:-1]].astype(np.uint)\n",
    "        self.polygons = [data[i:j] for i, j in np.c_[i0, i1]]\n",
    "    \n",
    "    @property\n",
    "    def triangles(self):\n",
    "        return np.concatenate([polygon_to_triangles(p) for p in self.polygons])"
   ]
  },
  {
   "cell_type": "code",
   "execution_count": 42,
   "metadata": {},
   "outputs": [],
   "source": [
    "import ipyvolume as ipv"
   ]
  },
  {
   "cell_type": "code",
   "execution_count": 46,
   "metadata": {},
   "outputs": [],
   "source": [
    "mesh = Mesh(file['1']['faces'])\n",
    "ipv.clear()\n",
    "fig = ipv.figure(width=400, height=400)"
   ]
  },
  {
   "cell_type": "code",
   "execution_count": 49,
   "metadata": {},
   "outputs": [
    {
     "data": {
      "application/vnd.jupyter.widget-view+json": {
       "model_id": "d656a69e28414e019ec26f6367ba1367",
       "version_major": 2,
       "version_minor": 0
      },
      "text/plain": [
       "VBox(children=(Figure(camera_center=[0.0, 0.0, 0.0], matrix_projection=[0.0, 0.0, 0.0, 0.0, 0.0, 0.0, 0.0, 0.0…"
      ]
     },
     "metadata": {},
     "output_type": "display_data"
    }
   ],
   "source": [
    "ipv.plot_trisurf(mesh.vertices[:,0], mesh.vertices[:,1], mesh.vertices[:,2], triangles=mesh.triangles)\n",
    "ipv.show()"
   ]
  },
  {
   "cell_type": "code",
   "execution_count": null,
   "metadata": {},
   "outputs": [],
   "source": []
  }
 ],
 "metadata": {
  "kernelspec": {
   "display_name": "Python 3",
   "language": "python",
   "name": "python3"
  },
  "language_info": {
   "codemirror_mode": {
    "name": "ipython",
    "version": 3
   },
   "file_extension": ".py",
   "mimetype": "text/x-python",
   "name": "python",
   "nbconvert_exporter": "python",
   "pygments_lexer": "ipython3",
   "version": "3.6.5"
  }
 },
 "nbformat": 4,
 "nbformat_minor": 2
}
