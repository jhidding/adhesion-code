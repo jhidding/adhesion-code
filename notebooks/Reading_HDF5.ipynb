{
 "cells": [
  {
   "cell_type": "code",
   "execution_count": 1,
   "metadata": {},
   "outputs": [],
   "source": [
    "import numpy as np\n",
    "from matplotlib import pyplot as plt\n",
    "from mpl_toolkits.mplot3d import Axes3D\n",
    "import h5py as h5"
   ]
  },
  {
   "cell_type": "code",
   "execution_count": 2,
   "metadata": {},
   "outputs": [],
   "source": [
    "file = h5.File('../output/lcdm.h5')\n",
    "# file.close()"
   ]
  },
  {
   "cell_type": "code",
   "execution_count": 3,
   "metadata": {},
   "outputs": [],
   "source": [
    "p = file[\"potential\"][:]"
   ]
  },
  {
   "cell_type": "code",
   "execution_count": 6,
   "metadata": {},
   "outputs": [],
   "source": [
    "file.close()"
   ]
  },
  {
   "cell_type": "code",
   "execution_count": 4,
   "metadata": {},
   "outputs": [],
   "source": [
    "def polygon_to_triangles(p):\n",
    "    return np.c_[np.repeat(p[0], p.size - 2), p[1:-1], p[2:]]\n",
    "\n",
    "class Mesh:\n",
    "    def __init__(self, h5_group):\n",
    "        \"\"\"Initialize a mesh from a group in a HDF5 file.\"\"\"\n",
    "        self.vertices = h5_group['vertices'][:].astype('float64')\n",
    "        data = h5_group['data'][:]\n",
    "        sizes = h5_group['sizes'][:]\n",
    "        self.info = h5_group['info'][:].astype('float64')\n",
    "        i1 = np.cumsum(sizes)\n",
    "        i0 = np.r_[[0], i1[:-1]].astype(np.uint)\n",
    "        self.polygons = [data[i:j] for i, j in np.c_[i0, i1]]\n",
    "    \n",
    "    @property\n",
    "    def triangles(self):\n",
    "        return np.concatenate([polygon_to_triangles(p) for p in self.polygons])"
   ]
  },
  {
   "cell_type": "code",
   "execution_count": 31,
   "metadata": {},
   "outputs": [],
   "source": [
    "nodes = [file[str(s)][\"nodes\"][:] for s in range(3)]"
   ]
  },
  {
   "cell_type": "code",
   "execution_count": 39,
   "metadata": {},
   "outputs": [
    {
     "data": {
      "image/png": "[encoded data removed]",
      "text/plain": [
       "<Figure size 432x288 with 1 Axes>"
      ]
     },
     "metadata": {},
     "output_type": "display_data"
    }
   ],
   "source": [
    "bins = np.logspace(-1.2, 2.2, 100)\n",
    "fig, ax = plt.subplots(1, 1)\n",
    "ax.set_xscale(\"log\")\n",
    "ax.set_yscale(\"log\")\n",
    "\n",
    "for i in range(3):\n",
    "    ax.hist(nodes[i][np.where(nodes[i]['node_type'] == 4)]['mass'],\n",
    "            bins=bins,\n",
    "            log=True, density=True,\n",
    "            alpha=0.3)"
   ]
  },
  {
   "cell_type": "code",
   "execution_count": 41,
   "metadata": {},
   "outputs": [
    {
     "data": {
      "text/plain": [
       "1.8310546875"
      ]
     },
     "execution_count": 41,
     "metadata": {},
     "output_type": "execute_result"
    }
   ],
   "source": [
    "(np.sqrt(3) * 200.0 / 256)**2"
   ]
  },
  {
   "cell_type": "code",
   "execution_count": null,
   "metadata": {},
   "outputs": [],
   "source": []
  }
 ],
 "metadata": {
  "kernelspec": {
   "display_name": "Python 3",
   "language": "python",
   "name": "python3"
  },
  "language_info": {
   "codemirror_mode": {
    "name": "ipython",
    "version": 3
   },
   "file_extension": ".py",
   "mimetype": "text/x-python",
   "name": "python",
   "nbconvert_exporter": "python",
   "pygments_lexer": "ipython3",
   "version": "3.6.5rc1"
  }
 },
 "nbformat": 4,
 "nbformat_minor": 2
}
