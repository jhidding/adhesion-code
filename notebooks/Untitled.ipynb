{
 "cells": [
  {
   "cell_type": "code",
   "execution_count": 3,
   "metadata": {},
   "outputs": [],
   "source": [
    "import numpy as np\n",
    "from numpy import (fft, random)\n",
    "from matplotlib import pyplot as plt"
   ]
  },
  {
   "cell_type": "code",
   "execution_count": 193,
   "metadata": {},
   "outputs": [],
   "source": [
    "from scipy.integrate import quad"
   ]
  },
  {
   "cell_type": "code",
   "execution_count": 6,
   "metadata": {},
   "outputs": [],
   "source": [
    "def eisenstein_hu(Theta27, Omega0, h, **kwargs):\n",
    "    Gamma = Omega0 * h\n",
    "    \n",
    "    def L0(q):\n",
    "        return np.log(2*np.exp(1) + 1.8*q)\n",
    "    \n",
    "    def C0(q):\n",
    "        return 14.2 + 731 / (1 + 62.5 * q)\n",
    "    \n",
    "    def T0(k):\n",
    "        q = k * Theta27**2 / Gamma\n",
    "        return L0(q) / (L0(q) + C0(q) * q**2)\n",
    "    \n",
    "    return T0"
   ]
  },
  {
   "cell_type": "code",
   "execution_count": 41,
   "metadata": {},
   "outputs": [],
   "source": [
    "def cdm(ns, T0, A=1.0, **kwargs):\n",
    "    return lambda k: A * k**ns * T0(k)**2"
   ]
  },
  {
   "cell_type": "code",
   "execution_count": 205,
   "metadata": {},
   "outputs": [],
   "source": [
    "def W_th(y):\n",
    "    return 3 / y**3 * (np.sin(y) - y * np.cos(y))"
   ]
  },
  {
   "cell_type": "code",
   "execution_count": 230,
   "metadata": {},
   "outputs": [],
   "source": [
    "class Cosmology(dict):\n",
    "    def __init__(self, **kwargs):\n",
    "        for key, val in kwargs.items():\n",
    "            self[key] = val\n",
    "            \n",
    "    def __getattr__(self, key):\n",
    "        return self[key]\n",
    "    \n",
    "    def __setattr__(self, key, val):\n",
    "        self[key] = val\n",
    "        \n",
    "    def P(self, k):\n",
    "        return cdm(T0=eisenstein_hu(**self), **self)(k)\n",
    "\n",
    "    @property\n",
    "    def shape(self):\n",
    "        return (self.N,) * 3\n",
    "    \n",
    "    @property\n",
    "    def V(self):\n",
    "        return self.L**3\n",
    "    \n",
    "    @property\n",
    "    def freq(self):\n",
    "        return fft.fftfreq(self.N, 2*np.pi/self.L)\n",
    "    \n",
    "    @property\n",
    "    def k(self):\n",
    "        return self.freq[np.indices(self.shape)]\n",
    "    \n",
    "    @property\n",
    "    def k_abs(self):\n",
    "        return np.sqrt((self.k**2).sum(axis=0))\n",
    "\n",
    "cosmology = Cosmology(\n",
    "    h=0.674,\n",
    "    ns=0.965,\n",
    "    Omega0=1.000,\n",
    "    sigma8=0.811,\n",
    "    Theta27=2.7255/2.7,\n",
    "    N=64,\n",
    "    L=10.0,\n",
    "    A=1.0)"
   ]
  },
  {
   "cell_type": "code",
   "execution_count": 231,
   "metadata": {},
   "outputs": [
    {
     "data": {
      "text/plain": [
       "[<matplotlib.lines.Line2D at 0x7f6090065dd8>]"
      ]
     },
     "execution_count": 231,
     "metadata": {},
     "output_type": "execute_result"
    },
    {
     "data": {
      "image/png": "[encoded data removed]",
      "text/plain": [
       "<Figure size 432x288 with 1 Axes>"
      ]
     },
     "metadata": {},
     "output_type": "display_data"
    }
   ],
   "source": [
    "N = cosmology.N\n",
    "k = np.sort(cosmology.freq[1:N//2])\n",
    "plt.loglog(k, cosmology.P(k))"
   ]
  },
  {
   "cell_type": "code",
   "execution_count": 232,
   "metadata": {},
   "outputs": [],
   "source": [
    "def norm_integrant(P, R):\n",
    "    return lambda k: P(k) / (2 * np.pi**2) * W_th(R * k)**2 * k**2"
   ]
  },
  {
   "cell_type": "code",
   "execution_count": 233,
   "metadata": {},
   "outputs": [],
   "source": [
    "cosmology.A = 1.0\n",
    "cosmology.A = cosmology.sigma8 / quad(norm_integrant(cosmology.P, 8.0),\n",
    "          (2*np.pi)/cosmology.L,\n",
    "          np.inf)[0]"
   ]
  },
  {
   "cell_type": "code",
   "execution_count": 234,
   "metadata": {},
   "outputs": [
    {
     "name": "stderr",
     "output_type": "stream",
     "text": [
      "/home/johannes/.local/share/workon/cosmology/lib/python3.6/site-packages/scipy/integrate/quadpack.py:364: IntegrationWarning: The maximum number of subdivisions (50) has been achieved.\n",
      "  If increasing the limit yields no improvement it is advised to analyze \n",
      "  the integrand in order to determine the difficulties.  If the position of a \n",
      "  local difficulty can be determined (singularity, discontinuity) one will \n",
      "  probably gain from splitting up the interval and calling the integrator \n",
      "  on the subranges.  Perhaps a special-purpose integrator should be used.\n",
      "  warnings.warn(msg, IntegrationWarning)\n"
     ]
    },
    {
     "data": {
      "text/plain": [
       "0.8192277903435756"
      ]
     },
     "execution_count": 234,
     "metadata": {},
     "output_type": "execute_result"
    }
   ],
   "source": [
    "quad(norm_integrant(cosmology.P, 8.0),\n",
    "     (2*np.pi)/cosmology.L,\n",
    "     np.inf)[0]"
   ]
  },
  {
   "cell_type": "code",
   "execution_count": 235,
   "metadata": {},
   "outputs": [
    {
     "data": {
      "text/plain": [
       "691.4208322899525"
      ]
     },
     "execution_count": 235,
     "metadata": {},
     "output_type": "execute_result"
    }
   ],
   "source": [
    "k = cosmology.k_abs.flat[1:]\n",
    "np.sqrt(1. / cosmology.V * np.sum(cosmology.P(k) * W_th(8.0 * k)**2))"
   ]
  },
  {
   "cell_type": "code",
   "execution_count": null,
   "metadata": {},
   "outputs": [],
   "source": []
  }
 ],
 "metadata": {
  "kernelspec": {
   "display_name": "Python 3",
   "language": "python",
   "name": "python3"
  },
  "language_info": {
   "codemirror_mode": {
    "name": "ipython",
    "version": 3
   },
   "file_extension": ".py",
   "mimetype": "text/x-python",
   "name": "python",
   "nbconvert_exporter": "python",
   "pygments_lexer": "ipython3",
   "version": "3.6.5rc1"
  }
 },
 "nbformat": 4,
 "nbformat_minor": 2
}
